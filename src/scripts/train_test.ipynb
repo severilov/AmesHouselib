{
 "cells": [
  {
   "cell_type": "code",
   "execution_count": 1,
   "metadata": {},
   "outputs": [
    {
     "name": "stdout",
     "output_type": "stream",
     "text": [
      "Mean cross validation score: 0.8105169050239656\n",
      "Mean shuffled cross validation score: 0.8251878127113912\n",
      "\n",
      "R-squared on train: 0.8744324305851578\n",
      "R-squared on test: 0.7206238626870873\n",
      "\n",
      "MSE: 0.016221008952266507\n",
      "RMSE: 0.12736172483233144\n"
     ]
    }
   ],
   "source": [
    "!python train.py -m 'linreg'"
   ]
  },
  {
   "cell_type": "code",
   "execution_count": 3,
   "metadata": {},
   "outputs": [
    {
     "name": "stdout",
     "output_type": "stream",
     "text": [
      "  File \"train.py\", line 59\r\n",
      "    print(f'Mean cross validation score: {cv_scores.mean()}')\r\n",
      "                                                           ^\r\n",
      "SyntaxError: invalid syntax\r\n"
     ]
    }
   ],
   "source": [
    "!python train.py -m 'linreg'"
   ]
  },
  {
   "cell_type": "code",
   "execution_count": 2,
   "metadata": {},
   "outputs": [
    {
     "name": "stdout",
     "output_type": "stream",
     "text": [
      "  File \"test.py\", line 32\r\n",
      "    print(f'R-squared on 2010 holdout data: {model.score(X_test, y_lnSP_2010)}')\r\n",
      "                                                                              ^\r\n",
      "SyntaxError: invalid syntax\r\n"
     ]
    }
   ],
   "source": [
    "!python test.py"
   ]
  },
  {
   "cell_type": "code",
   "execution_count": 3,
   "metadata": {},
   "outputs": [
    {
     "name": "stdout",
     "output_type": "stream",
     "text": [
      "/Users/Pablo/anaconda3/lib/python3.7/site-packages/sklearn/model_selection/_search.py:814: DeprecationWarning: The default of the `iid` parameter will change from True to False in version 0.22 and will be removed in 0.24. This will change numeric results when test-set sizes are unequal.\n",
      "  DeprecationWarning)\n",
      "Best Ridge alpha: 2.782559402207126\n",
      "Mean cross validation score: 0.8140726496296187\n",
      "Mean shuffled cross validation score: 0.8291780669609521\n",
      "\n",
      "R-squared on train: 0.8740889153534759\n",
      "R-squared on test: 0.7236940761284945\n",
      "\n",
      "MSE: 0.016042747629744697\n",
      "RMSE: 0.12665996853680606\n"
     ]
    }
   ],
   "source": [
    "!python train.py -m 'ridge'"
   ]
  },
  {
   "cell_type": "code",
   "execution_count": 4,
   "metadata": {},
   "outputs": [
    {
     "name": "stdout",
     "output_type": "stream",
     "text": [
      "R-squared on 2010 holdout data: 0.8217423751295978\r\n",
      "MSE: 0.01503422179993817\r\n",
      "RMSE: 0.12261411745773065\r\n"
     ]
    }
   ],
   "source": [
    "!python test.py"
   ]
  }
 ],
 "metadata": {
  "kernelspec": {
   "display_name": "Python 3",
   "language": "python",
   "name": "python3"
  },
  "language_info": {
   "codemirror_mode": {
    "name": "ipython",
    "version": 3
   },
   "file_extension": ".py",
   "mimetype": "text/x-python",
   "name": "python",
   "nbconvert_exporter": "python",
   "pygments_lexer": "ipython3",
   "version": "3.7.2"
  }
 },
 "nbformat": 4,
 "nbformat_minor": 2
}
